{
 "cells": [
  {
   "cell_type": "markdown",
   "metadata": {},
   "source": [
    "## Definition"
   ]
  },
  {
   "cell_type": "markdown",
   "metadata": {},
   "source": [
    "A decomposition of a Hermitian, positive-definite matrix into the product of a lower triangular matrix and its conjugate transpose:\n",
    "\n",
    " $ A = L  L^T$\n",
    " \n",
    "\n",
    "*What does this mean?* Nothing more than what is stated above: a matrix factorization, albeit a very efficient one."
   ]
  },
  {
   "cell_type": "markdown",
   "metadata": {},
   "source": [
    "## Applications"
   ]
  },
  {
   "cell_type": "markdown",
   "metadata": {},
   "source": [
    "### **1) Solving a linear system of equations.**\n",
    "\n",
    "If we want to solve for $x$ in $Ax = b$, first define:\n",
    "\n",
    "&nbsp;&nbsp;&nbsp;&nbsp; $LL^Tx=b$\n",
    "\n",
    "&nbsp;&nbsp;&nbsp;&nbsp; $Lc=b$\n",
    "\n",
    "From here we can solve efficiently for $c$ via *forward substitution*, and finally solve for $x$ via *backward substitution*:\n",
    "\n",
    "&nbsp;&nbsp;&nbsp;&nbsp; $L^Tx=c$\n",
    "\n",
    "There are other ways of doing it, but this method is highly efficient."
   ]
  },
  {
   "cell_type": "markdown",
   "metadata": {},
   "source": [
    "### **2) Solving a linear regression.**\n",
    "\n",
    "Similar to the case above, we want to solve for $\\beta$ on $Y = X \\beta$. \n",
    "\n",
    "First we derive the least-squares solution for this problem:\n",
    "\n",
    "&nbsp;&nbsp;&nbsp;&nbsp; $min(SSR(\\beta)) = min(Y-X \\beta)^T(Y-X \\beta)$\n",
    "\n",
    "&nbsp;&nbsp;&nbsp;&nbsp; $\\frac{\\delta SSR(\\beta)}{\\delta \\beta} = -2X^T(Y-X \\beta)=0$\n",
    "\n",
    "&nbsp;&nbsp;&nbsp;&nbsp; $XX^T \\beta = X^T Y$\n",
    "\n",
    "Applying the Cholesky decomposition on $XX^T$:\n",
    "\n",
    "&nbsp;&nbsp;&nbsp;&nbsp; $L^T L \\beta = X^T Y$\n",
    "\n",
    "Using a similar logic as on **(1)**, we can solve for $\\beta$ via:\n",
    "\n",
    "&nbsp;&nbsp;&nbsp;&nbsp; $Lc = XY$\n",
    "\n",
    "&nbsp;&nbsp;&nbsp;&nbsp; $L^T \\beta = c$"
   ]
  },
  {
   "cell_type": "markdown",
   "metadata": {},
   "source": [
    "### **2) Create correlated variables in Monte Carlo simulation.**\n",
    "\n",
    "This is one of the more interesting use cases. Suppose we want to transform a set of normal IID variables into correlated ones. For the case of 2 variables we know that:\n",
    "\n",
    "&nbsp;&nbsp;&nbsp;&nbsp; $e_1 = x_1$\n",
    "\n",
    "&nbsp;&nbsp;&nbsp;&nbsp; $e_2 = \\rho x_1 + x_2\\sqrt{(1-\\rho^2)}$\n",
    "\n",
    "For a larger number of variables the relationship gets tricky. However we can design a correlation matrix $\\Sigma$, perform Cholesky decomposition $\\Sigma=RR^T$, and then generate correlated series as:\n",
    "\n",
    "&nbsp;&nbsp;&nbsp;&nbsp; $e = Rx$"
   ]
  },
  {
   "cell_type": "markdown",
   "metadata": {},
   "source": [
    "## Example: Time Series Generation\n",
    "\n",
    "To be less abstract, lets look at a concrete example. We will use numpy to generate time series for 3 uncorrelated variables plus a target correlation matrix. Then with Cholesky's help we will derive the correlated time series."
   ]
  },
  {
   "cell_type": "code",
   "execution_count": null,
   "metadata": {},
   "outputs": [],
   "source": []
  },
  {
   "cell_type": "markdown",
   "metadata": {},
   "source": [
    "## Comments\n",
    "- On its own the Cholesky decomposition is simply a matrix manipulation technique. The procedure itself not that interesting; what is interesting is what we can do with the transformed data representation. "
   ]
  }
 ],
 "metadata": {
  "front-matter": {
   "date": "2021-09-14",
   "slug": "20210914_cholesky_decomposition",
   "tags": [
    "data science"
   ],
   "title": "Data Science Concept: Cholesky Decomposition",
   "toc": "true"
  },
  "hugo-jupyter": {
   "render-to": "content/post/"
  },
  "interpreter": {
   "hash": "ecf5722fdaf1897a315d257d89d94520bfcaa453217d5becf09b39e73618b0de"
  },
  "kernelspec": {
   "display_name": "Python 3 (ipykernel)",
   "language": "python",
   "name": "python3"
  },
  "language_info": {
   "codemirror_mode": {
    "name": "ipython",
    "version": 3
   },
   "file_extension": ".py",
   "mimetype": "text/x-python",
   "name": "python",
   "nbconvert_exporter": "python",
   "pygments_lexer": "ipython3",
   "version": "3.8.11"
  }
 },
 "nbformat": 4,
 "nbformat_minor": 2
}
